{
 "cells": [
  {
   "cell_type": "code",
   "execution_count": 1,
   "metadata": {},
   "outputs": [],
   "source": [
    "import numpy as np\n",
    "from queue import PriorityQueue\n",
    "import time"
   ]
  },
  {
   "cell_type": "code",
   "execution_count": 2,
   "metadata": {},
   "outputs": [],
   "source": [
    "def func(n,r):\n",
    "    #print(n,r)\n",
    "    l = []\n",
    "    \n",
    "    if n>r or n <= 0:\n",
    "        return []\n",
    "    \n",
    "    if n == 1:\n",
    "        l.append([r])\n",
    "        return l\n",
    "    #print(\"#\")\n",
    "    \n",
    "    for i in range(r-1):\n",
    "        for k in func(n-1, r-i-1):\n",
    "            l.append([i+1]+k)\n",
    "    \n",
    "    return l\n",
    "\n",
    "def all_(N,seq): # N : 줄 수, seq : sequence\n",
    "    line = func(len(seq) + 1,N - sum(seq) + 2)\n",
    "    ans = []\n",
    "    for temp in line:\n",
    "        LIST = []\n",
    "        count = 0\n",
    "        LIST = [0 for j in range(temp[0])]\n",
    "        for i in temp[1:]:\n",
    "            LIST += [1 for j in range(seq[count])]\n",
    "            LIST += [0 for j in range(i)]\n",
    "            count +=1\n",
    "        \n",
    "        ans.append(LIST[1:-1])\n",
    "    return ans\n",
    "\n",
    "def now_nono(): # 현재의 노노그램 진행 상황을 보는 함수\n",
    "    for i in range(len(nono[0])):\n",
    "        for j in range(len(nono[1])):\n",
    "            if nono[i][j] >= 1:\n",
    "                print('O', end = '')\n",
    "            elif(nono[i][j] == 0):\n",
    "                print('.', end = '')\n",
    "            elif (nono[i][j] == -1):\n",
    "                print('X', end = '')\n",
    "        print('')    \n",
    "    print('---------------------')\n",
    "\n",
    "\n",
    "    \n",
    "    \n",
    "def try_solve(nono):\n",
    "    for row in range(len(nono)):\n",
    "        ans = all_(len(nono),row_[row])\n",
    "        nono[row,:][np.where(np.sum(ans, axis = 0) == len(ans))[0]] = 1\n",
    "    \n",
    "    \n",
    "    PAST_ZERO_SUM = len(np.where(nono == 0)[0]) + len(np.where(nono == 0)[1])\n",
    "    while(1):\n",
    "        for col in range(len(nono[0])):\n",
    "            ans = all_(len(nono),col_[col])\n",
    "            nono[:,col][np.where(np.sum(ans, axis = 0) == len(ans))[0]] = 1  \n",
    "            SAVE = []\n",
    "            for slack in ans:\n",
    "                ar_slack = np.array(slack)\n",
    "                if all(ar_slack[np.where(nono[:,j] == 1)] == 1) and all(ar_slack[np.where(nono[:,j] == -1)] == 0):\n",
    "                    SAVE.append(slack)\n",
    "            AR_SAVE = np.array(SAVE)\n",
    "            nono[:,j][np.where(np.sum(AR_SAVE, axis = 0) == len(AR_SAVE))] = 1\n",
    "            nono[:,j][np.where(np.sum(AR_SAVE, axis = 0) == 0)] = -1\n",
    "        NOW_ZERO_SUM = len(np.where(nono == 0)[0]) + len(np.where(nono == 0)[1])\n",
    "        \n",
    "        # 변함이 없으면 b\n",
    "        if PAST_ZERO_SUM == NOW_ZERO_SUM:\n",
    "            break\n",
    "        PAST_ZERO_SUM = NOW_ZERO_SUM\n",
    "        for i in range(len(nono)):\n",
    "            ans = all_(len(nono),row_[i])\n",
    "            nono[i,:][np.where(np.sum(ans, axis = 0) == len(ans))[0]] = 1\n",
    "            SAVE = []\n",
    "            for slack in ans:\n",
    "                ar_slack = np.array(slack)\n",
    "                if all(ar_slack[np.where(nono[i,:] == 1)] == 1) and all(ar_slack[np.where(nono[i,:] == -1)] == 0):\n",
    "                    SAVE.append(slack)\n",
    "            AR_SAVE = np.array(SAVE)\n",
    "            nono[i,:][np.where(np.sum(AR_SAVE, axis = 0) == len(AR_SAVE))] = 1\n",
    "            nono[i,:][np.where(np.sum(AR_SAVE, axis = 0) == 0)] = -1\n",
    "        NOW_ZERO_SUM = len(np.where(nono == 0)[0]) + len(np.where(nono == 0)[1])\n",
    "        #print(PAST_ZERO_SUM)\n",
    "        #now_nono()\n",
    "        if PAST_ZERO_SUM == NOW_ZERO_SUM:\n",
    "            break\n",
    "        PAST_ZERO_SUM = NOW_ZERO_SUM\n",
    "\n",
    "    for i in range(len(nono)):\n",
    "        if row_[i] == len(np.where(nono[i] == 1)[0]):\n",
    "            ARRAY = nono[i]\n",
    "            ARRAY[ARRAY<=0] = -1\n",
    "            nono[i] = ARRAY\n",
    "    for j in range(len(nono[0])):\n",
    "        if col_[j] == len(np.where(nono[:,j] == 1)[0]):\n",
    "            ARRAY = nono[:,j]\n",
    "            ARRAY[ARRAY<=0] = -1\n",
    "            nono[:,j] = ARRAY\n",
    "    for i in range(len(nono)):\n",
    "        ans = all_(len(nono),row_[i])\n",
    "        row_can_(ans,i)\n",
    "    for j in range(len(nono[0])):\n",
    "        ans = all_(len(nono),col_[j])\n",
    "        col_can_(ans,j)\n",
    "\n",
    "    return nono\n",
    "\n",
    "def nonogram(P):\n",
    "    global row_, col_,que, nono, DICT\n",
    "    DICT = {}\n",
    "    que = PriorityQueue()\n",
    "    que.put((20000,[-1,-1]))\n",
    "    nono = np.zeros((P[0],P[1]))\n",
    "    row_ = []\n",
    "    col_ = []\n",
    "\n",
    "    for i in range(P[0]):\n",
    "        row_.append(P[i+2])\n",
    "    for j in range(P[1]):\n",
    "        col_.append(P[j+2+P[0]])\n",
    "        \n",
    "    # try solving 알고리즘 기입\n",
    "    nono = try_solve(nono)\n",
    "   \n",
    "    while (que):\n",
    "        q = que.get()\n",
    "        if sum(q[1]) == -2:## 큐가 비는 조건\n",
    "            break\n",
    "        all_LIST = all_(len(nono), col_[q[1][1]])\n",
    "        prob = cc(all_LIST, q[1][1])\n",
    "        input_dict(prob, q[1])\n",
    "    if len(DICT) == 0:\n",
    "        now_nono()\n",
    "        return \n",
    "    print('try_error...')\n",
    "    try_error()\n",
    "    return\n",
    "\n",
    "def cc(ans, i):\n",
    "    can = []\n",
    "    for I in ans:\n",
    "        COP = np.array(I)\n",
    "        COP[COP<=0] = -1\n",
    "        #print('COP: ', COP, 'nono[:,i]:',nono[:,i] )\n",
    "        temp = nono[:,i]*COP\n",
    "        #print(temp)\n",
    "        if all(temp!=-1):\n",
    "            can.append(I)\n",
    "    return can\n",
    "\n",
    "def row_can_(ans,i):\n",
    "    can = []\n",
    "    for I in ans:\n",
    "        I = np.array(I)\n",
    "        I[I<=0] = -1\n",
    "        if all(nono[i,:]*I != -1):\n",
    "            can.append(I)\n",
    "    count = len(can)\n",
    "    if count == 1:\n",
    "        l = np.array(can[0])\n",
    "        l[l == 0] = -1\n",
    "        nono[i,:] = l\n",
    "        \n",
    "def col_can_(ans,i):\n",
    "    can = []\n",
    "    for I in ans:\n",
    "        I = np.array(I)\n",
    "        I[I<=0] = -1\n",
    "        if all(nono[:,i]*I != -1):\n",
    "            can.append(I)\n",
    "    count = len(can)\n",
    "    if count == 1:\n",
    "        l = np.array(can[0])\n",
    "        l[l == 0] = -1\n",
    "        nono[:,i] = l\n",
    "    else:\n",
    "        que.put((count,[-1,i]))\n",
    "        \n",
    "def input_dict(LIST, q):\n",
    "    temp = []\n",
    "    if len(LIST) == 1:\n",
    "        nono[:,q[1]] = LIST[0]\n",
    "    else:\n",
    "        DICT[q[1]] = LIST\n",
    "\n",
    "def try_error():\n",
    "    global visit, now_visit\n",
    "    visit = [len(DICT[i]) for i in DICT]\n",
    "\n",
    "    now_visit = [0 for i in range(len(list(DICT.keys())))]\n",
    "\n",
    "    dfs(0)\n",
    "\n",
    "    \n",
    "def check():\n",
    "    check_nono = (nono == 1).copy()\n",
    "    for le in range(len(nono)):\n",
    "        LIST = list(check_nono[le].copy())\n",
    "        CL = [0]\n",
    "        i = 0\n",
    "        while(i<len(LIST)):\n",
    "            if LIST[i] == 0:\n",
    "                i+=1\n",
    "                CL.append(0)\n",
    "            else:\n",
    "                CL[-1] +=1\n",
    "                i+=1\n",
    "        while 0 in CL:\n",
    "            CL.remove(0)\n",
    "        if CL != row_[le]:\n",
    "            return False\n",
    "    now_nono()\n",
    "\n",
    "def dfs(pointer):\n",
    "    DICT_KEY = list(DICT.keys())\n",
    "    while(1):    \n",
    "        while(pointer  != len(DICT) - 1):\n",
    "            now_visit[pointer]+=1\n",
    "            pointer+=1\n",
    "        while(now_visit[pointer] != visit[pointer]):\n",
    "            if now_visit[0] ==visit[0] +1:\n",
    "                return\n",
    "            now_visit[pointer]+=1\n",
    "            for index, value in enumerate (now_visit):\n",
    "                temp =  np.array(DICT[DICT_KEY[index]][value-1])\n",
    "                temp[temp == 0] = -1\n",
    "                nono[:, DICT_KEY[index]] = temp\n",
    "            check()\n",
    "        now_visit[pointer] = 0\n",
    "        pointer -=1\n",
    "        while(now_visit[pointer] >= visit[pointer] and pointer != 0):\n",
    "            now_visit[pointer] = 0\n",
    "            pointer -=1"
   ]
  },
  {
   "cell_type": "code",
   "execution_count": 3,
   "metadata": {},
   "outputs": [],
   "source": [
    "P5=[5,5,[1,1],[5],[5],[3],[1],[2],[4],[4],[4],[2]]\n",
    "P10 = [10,10,[1,1,1,1],[3,3],[1,1],[1,1,1,1],[8],[6],[10],[6],[2,4,2],[1,1],[2,1,2],[4,1,1],[2,4],[6],[5],[5],[6],[2,4],[4,1,1],[2,1,2]]\n",
    "P20 = [20,20, [2,5,2], [3,5,4], [1,14], [1,2,4,1,1,3], [1,1,2,2,3,1],\n",
    "[3,10,2],[6,3,1,3],[7,4],[3,4,2],[2,2,3,1,3],[1,2,2,1,1,2],[1,2,4,3,1,1],[1,2,2,4,4],[2,2,3,2,3],[1,5,3,2],[5,2],[3,3,1,1],[2,1,1,1,4],[2,3,3,2,1,2],[2,2,4,1,1],[5,2],[2,2,3],[3,1,2,3],[1,4,7,2],[1,5,2,4,2],[1,1,4,2,2,1],[3,1,3,7],[\n",
    "1,7,2,2,1,1],[3,7,1,5],[3,1,1,1,1,2,2],[4,2,5,1,2,1],[3,5,4,2],[3,4,5,1],[1,2,1,1,1],[1,1,2,1,1,1],[5,1,2,1],[2,2,1,4,1],[3,1,1,1,1,1,1],[7,1,2,3],[4,2,2]]\n",
    "P25_hard =[25,25,[8,2,4,3],[7,1,1,2,2],[7,2,2,2,2],[5,1,2,2,1],[4,3,3,1,1],[3,4,2,1,1,1,1,1],[4,1,4,2,1,1,1],[3,5,3,2],[2,2,2,1,2,3],[4,2,1,2,1,2],[2,1,1,1,3,4,2,2],[1,1,1,4,2,4,1,1],[2,1,4,4,4,1],[1,1,4,2,2,1,3],[1,1,3,2,5,1],[1,1,4,1,1],[\n",
    "4,4,2],[2,2,4,1,2],[1,8,1],[2,4,1,1],[1,1,2,2,1,4],[2,2,2,3,5],[2,1,2,1,2,2],[1,2,2,4,2],[2,2,2,3,1],[5,2,4,4,1],[8,2,1,1,2,3],[8,1,1,1,2,2],[7,2,1,1,2,3],[4,2,1,1,1,3,1],[3,4,1,5,1,2],[3,2,1,1,8,3],[1,18],[7,2,4],[3,2,2,6],[1,1,1, 3,7],[3,2,3,2],[1,2,2],[2,1,2,2],[2,7,2],[5,2,2,1,1,1],[3,1,2,8],[1,2,2,1,2],[1,1,1,1,1],[2,1,4,2],[2,2,3,1,2],[2,3,1,2,2],[1,6,3,4],[3,4,1,3],[6,7,2]]\n",
    "P25 =[25,25,[1,1,1,2,2,2,1],[1,1,1,1,2],[2,3,1,3],[6,1,2],[7,1],[1,1,3,1],[5,1,1,2],[5,2,1],[5,1,2],[6,3,1],[6,2,2,1],[10,3],[5,2,3,4],[4,1,3,6],[4,1,1,2,2,1,2],[3,1,2,1,4,2,1],[1,3,2,2,1,1],[5,3,2,1,1],[8,4,1,1],[10,2,2],[12,3,1],[11,\n",
    "4,1],[9,6,2],[8,8,2],[7,10,3],[2,12,7],[4,10,7],[2,10,8],[5,9,8],[3,7,9],[5,3,11],[4,1,9],[1,3,5,6],[2,4,2,4,1],[1,4,2,3,1],[9,1,2,2],[1,2,1,3],[2,3,1,3],[1,2,2,4],[1,2,9],[1,1,2,6],[1,1,5],[1,2],[2],[1,2],[1,1],[4],[2,3,5,1],[3,1,4\n",
    ",6],[3,2,9,3]]\n",
    "P30_hard =[30,30,[8,11,1],[8,18],[1,1,10,1,1],[8,6,2,7],[1,1,5,1,6],[1,1,5,4,1],[3,3,5,4,4],[3,3,7,1,2],[3,3,6,1,3],[5,1,5],[4,3,5,2,2],[4,4,4,2,5],[4,1,3,4,2,3],[4,1,2,3,1,5],[1,2,5,2,4],[1,4,3,2,6],[1,4,2,1,1,3],[1,4,2,4,3],[2,1,1,2,9],[\n",
    "2,3,2,2,2,1,2,1],[2,2,1,3,2,6],[2,3,2,1,2,1,1,4,4],[2,3,2,1,2,1,2,5,1],[2,1,1,2,2,1,1,2,3],[2,1,1,2,1,1,2,5],[1,1,2,1,1,3],[4,2,1,2,2],[4,1,2,1,4],[4,1,1,1,1,1],[1,4,1,1,2],[3,4,3,6,3],[3,4,6,3],[9,4,3,3],[2,1,4,3,1,8],[2,1,3,1,2\n",
    "],[2,1,8,1,5],[2,1,2],[2,1,3,3,10],[2,1,3,4,10,3],[9,3],[5],[8,3,4],[14,1,2,2],[16,1,5,3],[21,1],[11,2,6,1],[5,2,3,6],[4,2,2,5],[3,2,2,2,2,1],[11,2,2,2,1,2,2],[4,2,1,1,2,2,1],[3,2,1,1,2,2,2,1],[2,1,1,2,1,1,1,1,1],[2,2,2,1,2,1,1,3\n",
    ",1,1],[1,2,1,1,1,1,1,5,1],[4,1,1,2,1,1,1,3,1],[1,2,1,2,1,2,1,5,2],[2,1,1,1,1,1,3,1,1],[1,1,1,1,1,1,2,1],[3,1,1,1,2,2,2]]"
   ]
  },
  {
   "cell_type": "code",
   "execution_count": 4,
   "metadata": {},
   "outputs": [
    {
     "name": "stdout",
     "output_type": "stream",
     "text": [
      "XOXOX\n",
      "OOOOO\n",
      "OOOOO\n",
      "XOOOX\n",
      "XXOXX\n",
      "---------------------\n"
     ]
    },
    {
     "data": {
      "text/plain": [
       "0.016133785247802734"
      ]
     },
     "execution_count": 4,
     "metadata": {},
     "output_type": "execute_result"
    }
   ],
   "source": [
    "start = time.time()\n",
    "nono2 = nonogram(P5)\n",
    "time.time() - start"
   ]
  },
  {
   "cell_type": "code",
   "execution_count": 5,
   "metadata": {},
   "outputs": [
    {
     "name": "stdout",
     "output_type": "stream",
     "text": [
      "OXOXXXXOXO\n",
      "OOOXXXXOOO\n",
      "XOXXXXXXOX\n",
      "XOXOXXOXOX\n",
      "XOOOOOOOOX\n",
      "XXOOOOOOXX\n",
      "OOOOOOOOOO\n",
      "XXOOOOOOXX\n",
      "OOXOOOOXOO\n",
      "OXXXXXXXXO\n",
      "---------------------\n"
     ]
    },
    {
     "data": {
      "text/plain": [
       "0.03387165069580078"
      ]
     },
     "execution_count": 5,
     "metadata": {},
     "output_type": "execute_result"
    }
   ],
   "source": [
    "start = time.time()\n",
    "nono2 = nonogram(P10)\n",
    "time.time() - start"
   ]
  },
  {
   "cell_type": "code",
   "execution_count": 6,
   "metadata": {},
   "outputs": [
    {
     "name": "stdout",
     "output_type": "stream",
     "text": [
      "XXXXXXOOXXOOOOOXXXOO\n",
      "XXXXOOOXOOOOOXXXOOOO\n",
      "XXXOXXOOOOOOOOOOOOOO\n",
      "XXOXOOXOOOOXXOXOXOOO\n",
      "XXOXOXOOXXXOOXOOOXOX\n",
      "XXOOOXXOOOOOOOOOOXOO\n",
      "XXXOOOOOOXOOOXXOXOOO\n",
      "XXXOOOOOOOXOOOOXXXXX\n",
      "XOOOXOOOOXOOXXXXXXXX\n",
      "OOXXOOXXOOOXOXXXOOOX\n",
      "OXXOOXXOOXOXOXOOXXXX\n",
      "OXOOXOOOOXOOOXXXOXOX\n",
      "OXOOXOOXXOOOOXXOOOOX\n",
      "OOXOOXOOOXXOOXOOOXXX\n",
      "XOXOOOOOXOOOXXXXOOXX\n",
      "XXOOOOOXOOXXXXXXXXXX\n",
      "XXOOOXOOOXOXXXXXXXOX\n",
      "XOOXXXOXOXOXXXXXOOOO\n",
      "OOXOOOXOOOXOOXXOXXOO\n",
      "OOXOOXXXOOOOXOXXXOXX\n",
      "---------------------\n"
     ]
    },
    {
     "data": {
      "text/plain": [
       "2.6919667720794678"
      ]
     },
     "execution_count": 6,
     "metadata": {},
     "output_type": "execute_result"
    }
   ],
   "source": [
    "start = time.time()\n",
    "nono2 = nonogram(P20)\n",
    "time.time() - start"
   ]
  },
  {
   "cell_type": "code",
   "execution_count": 7,
   "metadata": {},
   "outputs": [
    {
     "name": "stdout",
     "output_type": "stream",
     "text": [
      "OOOOOOOOXOOXXXXXOOOOXXOOO\n",
      "OOOOOOOXXOXXXXXXOXXOOXXOO\n",
      "OOOOOOOXOOXXXXXOOXXXOOXOO\n",
      "OOOOOXXXOXXXXXOOXXXXXOOXO\n",
      "OOOOXXOOOXXXXOOOXXXXXXOXO\n",
      "XOOOXOOOOXXXOOXOXOXXOXOXO\n",
      "OOOOXOXOOOOXXXOOXOXXOXOXX\n",
      "OOOXXOOOOOXXOOOXXXXXXXOOX\n",
      "XXXXOOXOOXXOOXOXXXOOXOOOX\n",
      "XOOOOXOOXXXOXXOOXXXXXOXOO\n",
      "OOXOXOXOXOOOXXOOOOXXOOXOO\n",
      "OXOXOXOOOOXXXOOXXOOOOXOXO\n",
      "OOXOXOOOOXXXOOOOXXXOOOOXO\n",
      "OXOXOOOOXXXOOXXOOXXOXXOOO\n",
      "XOXOXOOOXXOOXXXXOOOOOXXXO\n",
      "OXOXOOOOXXOXXXXXXXXXXXXXO\n",
      "OOOOXOOOOXOOXXXXXXXXXXXXX\n",
      "OOXOOXOOOOXOXXXOOXXXXXXXX\n",
      "OXXXOOOOOOOOXXXXOXXXXXXXX\n",
      "XXXOOXXOOOOXXOXXOXXXXXXXX\n",
      "XXXOXXXOXOOXXOOXOXXXXOOOO\n",
      "XXOOXXOOXOOXXXOOOXXXOOOOO\n",
      "XOOXXXOXXOOXXXXXOXXOOXOOX\n",
      "XOXXXOOXXXOOXXXXOOOOXOOXX\n",
      "OOXXOOXXXXOOXXXOOOXXXOXXX\n",
      "---------------------\n"
     ]
    },
    {
     "data": {
      "text/plain": [
       "115.06700587272644"
      ]
     },
     "execution_count": 7,
     "metadata": {},
     "output_type": "execute_result"
    }
   ],
   "source": [
    "start = time.time()\n",
    "nono2 = nonogram(P25_hard)\n",
    "time.time() - start"
   ]
  },
  {
   "cell_type": "code",
   "execution_count": 8,
   "metadata": {},
   "outputs": [
    {
     "name": "stdout",
     "output_type": "stream",
     "text": [
      "XOXOXOXXXXOOXXOOXXXOOXXXO\n",
      "XOXOXOXXXXOXXXXXXXXXXXXOO\n",
      "OOXOOOXXXXOXXXXXXXXXXXOOO\n",
      "OOOOOOXXXXOXXXXXXXXXXXOOX\n",
      "XXOOOOOOOXOXXXXXXXXXXXXXX\n",
      "OXXXXXOXOOOXXXXXXXXXXXXXO\n",
      "OOOOOXOXXXOXXXXXXXXXXXXOO\n",
      "OOOOOXOOXXOXXXXXXXXXXXXXX\n",
      "OOOOOXXOXOOXXXXXXXXXXXXXX\n",
      "OOOOOOXOOOXXOXXXXXXXXXXXX\n",
      "OOOOOOXXOOXXOOXXXXXXXXXXO\n",
      "OOOOOOOOOOXXXXXXXXXXXXOOO\n",
      "OOOOOXXOOXXXXXOOOXXXXOOOO\n",
      "OOOOXXXOXXXXOOOXXXXOOOOOO\n",
      "OOOOXOXOXXXXOOXXXXOOXOXOO\n",
      "OOOXXOXOOXXXOXXOOOOXXOOXO\n",
      "OXXXOOOXOOXXXXOOXXXXXXOXO\n",
      "XXOOOOOXXOOOXOOXXXXXXXOXO\n",
      "OOOOOOOOXXXOOOOXXXXXXXOXO\n",
      "OOOOOOOOOOXXXXOOXXXXXXOOX\n",
      "OOOOOOOOOOOOXXOOOXXXXXXOX\n",
      "OOOOOOOOOOOXXOOOOXXXXXXOX\n",
      "OOOOOOOOOXXOOOOOOXXXXXXOO\n",
      "OOOOOOOOXXOOOOOOOOXXXXXOO\n",
      "OOOOOOOXOOOOOOOOOOXXXXOOO\n",
      "---------------------\n"
     ]
    },
    {
     "data": {
      "text/plain": [
       "19.973743200302124"
      ]
     },
     "execution_count": 8,
     "metadata": {},
     "output_type": "execute_result"
    }
   ],
   "source": [
    "start = time.time()\n",
    "nono2 = nonogram(P25)\n",
    "time.time() - start"
   ]
  },
  {
   "cell_type": "code",
   "execution_count": 14,
   "metadata": {},
   "outputs": [
    {
     "name": "stdout",
     "output_type": "stream",
     "text": [
      "try_solving...\n",
      "XXOOOOOOOOXXXOOOOOOOOOOOXXXOXX\n",
      "XXOOOOOOOOXXOOOOOOOOOOOOOOOOOO\n",
      "XXOXXXXXXOXXOOOOOOOOOOXXXOXXXO\n",
      "XXOOOOOOOOXXOOOOOOXOOXXOOOOOOO\n",
      "XXOXXXXXXOXXOOOOOXXOXOOOOOOXXX\n",
      "XXOXXXXXXOXOOOOOXXOOOOXXXXXXXO\n",
      "OOOXXXXOOOXOOOOOXOOOOXXOOOOXXX\n",
      "OOOXXXXOOOXOOOOOOOXOXXOOXXXXXX\n",
      "OOOXXXXOOOXOOOOOOXXOXXXXXXOOOX\n",
      "XXXXXXXXXXXOOOOOXXXOXXOOOOOXXX\n",
      "OOOOXOOOXXXOOOOOXXOOXOOXXXXXXX\n",
      "OOOOXOOOOXXOOOOXXOOXXXXXXOOOOO\n",
      "OOOOXOXOOOXOOOOXOOXXXXXOOOXXXX\n",
      "OOOOXOXXOOXXOOOXOXXOOOOOXXXXXX\n",
      "XXXXXOXXOOXXOOOOOXOOXXXXXXOOOO\n",
      "OXOOOOXXXXXXXOOOXOOXXOOOOOOXXX\n",
      "OXOOOOXOOXXXXXOXXOXOOOXXXXXXXX\n",
      "OXOOOOXOOXXOOOOXXOOOXXXXXXXXXX\n",
      "XXXXXXXOOXXOXXOXXOOXXOOOOOOOOO\n",
      "OOXOOOXOOXOOXXOOXOXXOOXXXXXXXO\n",
      "OOXXXXXOOXOXXOOOXXXOOXXOOOOOOX\n",
      "OOXOOOXOOXOXOOXOXXXOXOOOOXOOOO\n",
      "OOXOOOXOOXOXOOXOXXXXOOXOOOOOXO\n",
      "OOXOXOXOOXOOXOXOXXXOOXXXOOOXXX\n",
      "OOXOXOXOOXXOXOXOOXXXXXXOOOOOXX\n",
      "XXXOXOXOOXXOXXXXOXXOOOXXXXXXXX\n",
      "OOOOXXXXXXXOOXXXOXOOXXXXXXOOXX\n",
      "OOOOXXXXOXXXOOXXOXXXXXXOOOOXXX\n",
      "OOOOXXXXOXXXXOXXOXXOXXXXXXXXXO\n",
      "XXXXXXXXOXXXXOOOOXXOXXOXXXXXOO\n",
      "---------------------\n"
     ]
    },
    {
     "data": {
      "text/plain": [
       "958.0545461177826"
      ]
     },
     "execution_count": 14,
     "metadata": {},
     "output_type": "execute_result"
    }
   ],
   "source": [
    "start = time.time()\n",
    "nono2 = nonogram(P30_hard)\n",
    "time.time() - start"
   ]
  },
  {
   "cell_type": "code",
   "execution_count": 15,
   "metadata": {},
   "outputs": [],
   "source": [
    "P2 = [2,2,[1],[1],[1],[1]]"
   ]
  },
  {
   "cell_type": "code",
   "execution_count": 16,
   "metadata": {},
   "outputs": [
    {
     "name": "stdout",
     "output_type": "stream",
     "text": [
      "try_solving...\n",
      "OX\n",
      "XO\n",
      "---------------------\n",
      "XO\n",
      "OX\n",
      "---------------------\n"
     ]
    },
    {
     "data": {
      "text/plain": [
       "0.001996755599975586"
      ]
     },
     "execution_count": 16,
     "metadata": {},
     "output_type": "execute_result"
    }
   ],
   "source": [
    "start = time.time()\n",
    "nono2 = nonogram(P2)\n",
    "time.time() - start"
   ]
  },
  {
   "cell_type": "code",
   "execution_count": null,
   "metadata": {},
   "outputs": [],
   "source": []
  }
 ],
 "metadata": {
  "kernelspec": {
   "display_name": "Python 3",
   "language": "python",
   "name": "python3"
  },
  "language_info": {
   "codemirror_mode": {
    "name": "ipython",
    "version": 3
   },
   "file_extension": ".py",
   "mimetype": "text/x-python",
   "name": "python",
   "nbconvert_exporter": "python",
   "pygments_lexer": "ipython3",
   "version": "3.7.4"
  }
 },
 "nbformat": 4,
 "nbformat_minor": 2
}
